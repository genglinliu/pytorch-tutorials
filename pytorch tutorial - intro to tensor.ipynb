{
 "cells": [
  {
   "cell_type": "code",
   "execution_count": 53,
   "metadata": {},
   "outputs": [],
   "source": [
    "from __future__ import print_function\n",
    "import torch"
   ]
  },
  {
   "cell_type": "code",
   "execution_count": 56,
   "metadata": {},
   "outputs": [
    {
     "name": "stdout",
     "output_type": "stream",
     "text": [
      "tensor([[0.7554, 0.2125, 0.6454],\n",
      "        [0.1772, 0.0280, 0.9126],\n",
      "        [0.9581, 0.3933, 0.4694],\n",
      "        [0.7131, 0.8033, 0.6217],\n",
      "        [0.7644, 0.7080, 0.2994]])\n"
     ]
    }
   ],
   "source": [
    "x = torch.empty(5, 3)\n",
    "print(x)"
   ]
  },
  {
   "cell_type": "code",
   "execution_count": 21,
   "metadata": {},
   "outputs": [
    {
     "name": "stdout",
     "output_type": "stream",
     "text": [
      "tensor([[0.3251, 0.1956, 0.0232],\n",
      "        [0.8821, 0.9239, 0.2662],\n",
      "        [0.8408, 0.3247, 0.0034],\n",
      "        [0.7454, 0.7741, 0.8065],\n",
      "        [0.7226, 0.7540, 0.4768]])\n"
     ]
    }
   ],
   "source": [
    "x = torch.rand(5, 3)\n",
    "print(x)"
   ]
  },
  {
   "cell_type": "code",
   "execution_count": 65,
   "metadata": {},
   "outputs": [
    {
     "name": "stdout",
     "output_type": "stream",
     "text": [
      "tensor([[0, 0, 0],\n",
      "        [0, 0, 0],\n",
      "        [0, 0, 0],\n",
      "        [0, 0, 0],\n",
      "        [0, 0, 0]])\n"
     ]
    }
   ],
   "source": [
    "x = torch.zeros(5, 3, dtype = torch.long)\n",
    "print(x)"
   ]
  },
  {
   "cell_type": "code",
   "execution_count": 67,
   "metadata": {},
   "outputs": [
    {
     "name": "stdout",
     "output_type": "stream",
     "text": [
      "tensor([5.5000, 3.0000])\n"
     ]
    }
   ],
   "source": [
    "x = torch.tensor([5.5, 3])\n",
    "print(x)"
   ]
  },
  {
   "cell_type": "code",
   "execution_count": 72,
   "metadata": {},
   "outputs": [
    {
     "name": "stdout",
     "output_type": "stream",
     "text": [
      "tensor([[1., 1., 1.],\n",
      "        [1., 1., 1.],\n",
      "        [1., 1., 1.],\n",
      "        [1., 1., 1.],\n",
      "        [1., 1., 1.]], dtype=torch.float64)\n",
      "tensor([[-0.4975, -0.3368,  1.3663],\n",
      "        [-1.9906,  0.8708,  0.4398],\n",
      "        [-0.9860, -0.3052, -0.6650],\n",
      "        [-0.3401, -1.2187,  1.1661],\n",
      "        [ 1.3197,  2.9246,  0.7626]])\n"
     ]
    }
   ],
   "source": [
    "x = x.new_ones(5, 3, dtype = torch.double)\n",
    "print(x)\n",
    "\n",
    "x = torch.randn_like(x, dtype = torch.float)\n",
    "print(x)"
   ]
  },
  {
   "cell_type": "code",
   "execution_count": 73,
   "metadata": {},
   "outputs": [
    {
     "name": "stdout",
     "output_type": "stream",
     "text": [
      "torch.Size([5, 3])\n"
     ]
    }
   ],
   "source": [
    "print(x.size())"
   ]
  },
  {
   "cell_type": "code",
   "execution_count": 74,
   "metadata": {},
   "outputs": [
    {
     "name": "stdout",
     "output_type": "stream",
     "text": [
      "tensor([[ 0.3066,  0.0237,  2.0983],\n",
      "        [-1.6779,  1.6503,  0.6121],\n",
      "        [-0.2384,  0.4653, -0.1179],\n",
      "        [ 0.2423, -1.2026,  1.4583],\n",
      "        [ 1.8240,  3.1044,  1.3369]])\n"
     ]
    }
   ],
   "source": [
    "y = torch.rand(5,3)\n",
    "print(x+y)"
   ]
  },
  {
   "cell_type": "code",
   "execution_count": 75,
   "metadata": {},
   "outputs": [
    {
     "name": "stdout",
     "output_type": "stream",
     "text": [
      "tensor([[ 0.3066,  0.0237,  2.0983],\n",
      "        [-1.6779,  1.6503,  0.6121],\n",
      "        [-0.2384,  0.4653, -0.1179],\n",
      "        [ 0.2423, -1.2026,  1.4583],\n",
      "        [ 1.8240,  3.1044,  1.3369]])\n"
     ]
    }
   ],
   "source": [
    "print(torch.add(x, y))"
   ]
  },
  {
   "cell_type": "code",
   "execution_count": 76,
   "metadata": {},
   "outputs": [
    {
     "name": "stdout",
     "output_type": "stream",
     "text": [
      "tensor([[ 0.3066,  0.0237,  2.0983],\n",
      "        [-1.6779,  1.6503,  0.6121],\n",
      "        [-0.2384,  0.4653, -0.1179],\n",
      "        [ 0.2423, -1.2026,  1.4583],\n",
      "        [ 1.8240,  3.1044,  1.3369]])\n"
     ]
    }
   ],
   "source": [
    "y.add_(x)\n",
    "print(y)\n",
    "# inplace operations have _ postfix"
   ]
  },
  {
   "cell_type": "code",
   "execution_count": 78,
   "metadata": {},
   "outputs": [
    {
     "name": "stdout",
     "output_type": "stream",
     "text": [
      "tensor([[-0.4975, -0.3368,  1.3663],\n",
      "        [-1.9906,  0.8708,  0.4398],\n",
      "        [-0.9860, -0.3052, -0.6650],\n",
      "        [-0.3401, -1.2187,  1.1661],\n",
      "        [ 1.3197,  2.9246,  0.7626]])\n",
      "tensor([-0.3368,  0.8708, -0.3052, -1.2187,  2.9246])\n"
     ]
    }
   ],
   "source": [
    "print(x)\n",
    "print(x[:, 1])"
   ]
  },
  {
   "cell_type": "code",
   "execution_count": 82,
   "metadata": {},
   "outputs": [
    {
     "name": "stdout",
     "output_type": "stream",
     "text": [
      "tensor([[ 0.3977, -0.9648,  1.8624, -0.4681],\n",
      "        [ 0.5526, -0.9518, -0.2669,  2.1105],\n",
      "        [ 0.7599, -0.7547, -0.0928,  2.2084],\n",
      "        [ 2.0956,  0.7505,  0.1542,  1.7928]]) tensor([ 0.3977, -0.9648,  1.8624, -0.4681,  0.5526, -0.9518, -0.2669,  2.1105,\n",
      "         0.7599, -0.7547, -0.0928,  2.2084,  2.0956,  0.7505,  0.1542,  1.7928]) tensor([[ 0.3977, -0.9648,  1.8624, -0.4681,  0.5526, -0.9518, -0.2669,  2.1105],\n",
      "        [ 0.7599, -0.7547, -0.0928,  2.2084,  2.0956,  0.7505,  0.1542,  1.7928]])\n"
     ]
    }
   ],
   "source": [
    "#resize\n",
    "x = torch.randn(4, 4)\n",
    "y = x.view(16)\n",
    "z = x.view(-1, 8) #size -1 is inferred from other dimensions\n",
    "print (x, y, z)"
   ]
  },
  {
   "cell_type": "code",
   "execution_count": 85,
   "metadata": {},
   "outputs": [
    {
     "name": "stdout",
     "output_type": "stream",
     "text": [
      "tensor([-0.2274])\n",
      "-0.22740697860717773\n"
     ]
    }
   ],
   "source": [
    "x = torch.randn(1)\n",
    "print(x)\n",
    "print(x.item())"
   ]
  },
  {
   "cell_type": "code",
   "execution_count": 87,
   "metadata": {},
   "outputs": [
    {
     "name": "stdout",
     "output_type": "stream",
     "text": [
      "tensor([1., 1., 1., 1., 1.])\n",
      "[1. 1. 1. 1. 1.]\n"
     ]
    }
   ],
   "source": [
    "#tensor to numpy array\n",
    "a = torch.ones(5)\n",
    "print (a)\n",
    "b = a.numpy()\n",
    "print (b)"
   ]
  },
  {
   "cell_type": "code",
   "execution_count": 88,
   "metadata": {},
   "outputs": [
    {
     "name": "stdout",
     "output_type": "stream",
     "text": [
      "tensor([2., 2., 2., 2., 2.])\n",
      "[2. 2. 2. 2. 2.]\n"
     ]
    }
   ],
   "source": [
    "a.add_(1)\n",
    "print(a)\n",
    "print(b)\n",
    "# numpy array changed in value\n",
    "# same reference?"
   ]
  },
  {
   "cell_type": "code",
   "execution_count": 91,
   "metadata": {},
   "outputs": [
    {
     "name": "stdout",
     "output_type": "stream",
     "text": [
      "tensor([1., 1., 1., 1., 1.], dtype=torch.float64)\n",
      "[2. 2. 2. 2. 2.]\n",
      "tensor([1., 1., 1., 1., 1.], dtype=torch.float64)\n"
     ]
    }
   ],
   "source": [
    "# numpy array to tensor\n",
    "\n",
    "import numpy as np\n",
    "a = np.ones(5)\n",
    "b = torch.from_numpy(a)\n",
    "print(b)\n",
    "\n",
    "# np.add(a, 1, out=a)\n",
    "a = np.add(a, 1)\n",
    "print(a)\n",
    "print(b)"
   ]
  },
  {
   "cell_type": "code",
   "execution_count": 93,
   "metadata": {},
   "outputs": [
    {
     "name": "stdout",
     "output_type": "stream",
     "text": [
      "tensor([-0.2274], device='cuda:0')\n",
      "tensor([0.7726], device='cuda:0')\n",
      "tensor([0.7726], dtype=torch.float64)\n"
     ]
    }
   ],
   "source": [
    "# cuda tensors\n",
    "#let this cell run only if cuda is available\n",
    "# torch.device is used to move tensors in and out of GPU\n",
    "print(x)\n",
    "\n",
    "if torch.cuda.is_available():\n",
    "    dvce = torch.device(\"cuda\")\n",
    "    y = torch.ones_like(x, device=dvce)\n",
    "    x = x.to(\"cuda\")\n",
    "    z = x + y\n",
    "    print(z)\n",
    "    print(z.to(\"cpu\", torch.double))"
   ]
  },
  {
   "cell_type": "code",
   "execution_count": null,
   "metadata": {},
   "outputs": [],
   "source": []
  }
 ],
 "metadata": {
  "kernelspec": {
   "display_name": "Python 3",
   "language": "python",
   "name": "python3"
  },
  "language_info": {
   "codemirror_mode": {
    "name": "ipython",
    "version": 3
   },
   "file_extension": ".py",
   "mimetype": "text/x-python",
   "name": "python",
   "nbconvert_exporter": "python",
   "pygments_lexer": "ipython3",
   "version": "3.7.1"
  }
 },
 "nbformat": 4,
 "nbformat_minor": 2
}
