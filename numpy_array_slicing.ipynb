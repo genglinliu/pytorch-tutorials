{
  "nbformat": 4,
  "nbformat_minor": 0,
  "metadata": {
    "colab": {
      "name": "numpy_array_slicing.ipynb",
      "provenance": []
    },
    "kernelspec": {
      "name": "python3",
      "display_name": "Python 3"
    }
  },
  "cells": [
    {
      "cell_type": "code",
      "metadata": {
        "id": "bO09Fh3EArdk",
        "colab_type": "code",
        "colab": {
          "base_uri": "https://localhost:8080/",
          "height": 103
        },
        "outputId": "940ff158-163e-4c87-8fcb-c68b1720656b"
      },
      "source": [
        "import numpy as np\n",
        "\n",
        "\"\"\"\n",
        "[start:end:step]\n",
        "start: inclusive; default=0\n",
        "end: exclusive; default=len(arr)\n",
        "step: default = 1\n",
        "\n",
        "negative values: counting backwards\n",
        "\"\"\"\n",
        "arr = np.array([1, 2, 3, 4, 5, 6, 7])\n",
        "\n",
        "print(arr[1:6])     # [2, 3, 4, 5, 6]\n",
        "print(arr[0:7])     # [1, 2, 3, 4, 5, 6, 7]\n",
        "print(arr[:])       # [1, 2, 3, 4, 5, 6, 7]\n",
        "print(arr[-1:])     # [7] (because [-1] is inclusive)\n",
        "print(arr[-3:-1])   # [5, 6] (but -1 here is exclusive)"
      ],
      "execution_count": 18,
      "outputs": [
        {
          "output_type": "stream",
          "text": [
            "[1 2 3 4 5 6 7]\n",
            "[1 2 3 4 5 6 7]\n",
            "[7]\n",
            "[5 6]\n"
          ],
          "name": "stdout"
        },
        {
          "output_type": "execute_result",
          "data": {
            "text/plain": [
              "7"
            ]
          },
          "metadata": {
            "tags": []
          },
          "execution_count": 18
        }
      ]
    },
    {
      "cell_type": "code",
      "metadata": {
        "id": "g3fWHQNkBM-T",
        "colab_type": "code",
        "colab": {
          "base_uri": "https://localhost:8080/",
          "height": 51
        },
        "outputId": "6bc74511-6b32-494d-fb91-80b2a0a4cf1e"
      },
      "source": [
        "# steps\n",
        "print(arr[1:5:2])   # [2, 4] (arr[5] is 6 but exclusive)\n",
        "print(arr[::2])     # [1, 3, 5, 7] (arr[7] DNE but it's exclusive so we include 7)"
      ],
      "execution_count": 21,
      "outputs": [
        {
          "output_type": "stream",
          "text": [
            "[2 4]\n",
            "[1 3 5 7]\n"
          ],
          "name": "stdout"
        }
      ]
    },
    {
      "cell_type": "code",
      "metadata": {
        "id": "gdOZCP57GI9Q",
        "colab_type": "code",
        "colab": {
          "base_uri": "https://localhost:8080/",
          "height": 51
        },
        "outputId": "c74b368d-b5bf-4156-a87f-b5193cdb07cb"
      },
      "source": [
        "# 2D arrays\n",
        "arr = np.array([[1, 2, 3, 4, 5], [6, 7, 8, 9, 10]])\n",
        "arr"
      ],
      "execution_count": 23,
      "outputs": [
        {
          "output_type": "execute_result",
          "data": {
            "text/plain": [
              "array([[ 1,  2,  3,  4,  5],\n",
              "       [ 6,  7,  8,  9, 10]])"
            ]
          },
          "metadata": {
            "tags": []
          },
          "execution_count": 23
        }
      ]
    },
    {
      "cell_type": "code",
      "metadata": {
        "id": "bPWg82NuKKkn",
        "colab_type": "code",
        "colab": {
          "base_uri": "https://localhost:8080/",
          "height": 51
        },
        "outputId": "4951b664-249e-4c5d-957c-c70022fe808c"
      },
      "source": [
        "print(arr[1, 1:4])      # 1 means arr[1], which is [6, 7, 8, 9, 10]\n",
        "print(arr[0:2, 2])      # From both subarrays, return index 2 (arr[0] to arr[1])\n",
        "print(arr[0:2, 1:4])    # From both subarrays, slice index 1 to index 4 (not included)"
      ],
      "execution_count": 28,
      "outputs": [
        {
          "output_type": "stream",
          "text": [
            "[7 8 9]\n",
            "[3 8]\n"
          ],
          "name": "stdout"
        }
      ]
    },
    {
      "cell_type": "code",
      "metadata": {
        "id": "Hel2XbY1KQXJ",
        "colab_type": "code",
        "colab": {}
      },
      "source": [
        ""
      ],
      "execution_count": null,
      "outputs": []
    }
  ]
}